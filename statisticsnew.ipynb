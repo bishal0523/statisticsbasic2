{
 "cells": [
  {
   "cell_type": "code",
   "execution_count": 2,
   "id": "54a84859-0701-4eb4-88cf-728e3759b041",
   "metadata": {},
   "outputs": [
    {
     "name": "stderr",
     "output_type": "stream",
     "text": [
      "/tmp/ipykernel_163/872878628.py:32: FutureWarning: Unlike other reduction functions (e.g. `skew`, `kurtosis`), the default behavior of `mode` typically preserves the axis it acts along. In SciPy 1.11.0, this behavior will change: the default value of `keepdims` will become False, the `axis` over which the statistic is taken will be eliminated, and the value None will no longer be accepted. Set `keepdims` to True or False to avoid this warning.\n",
      "  mode = stats.mode(data)\n"
     ]
    },
    {
     "data": {
      "text/plain": [
       "(177.01875, 177.0, 177.0)"
      ]
     },
     "execution_count": 2,
     "metadata": {},
     "output_type": "execute_result"
    }
   ],
   "source": [
    "#assignment\n",
    "#Q1. What are the three measures of central tendency?\n",
    "#ans-The three measures of central tendency are:\n",
    "\n",
    "# Mean: The arithmetic average of a set of values.\n",
    "# Median: The middle value in a set of ordered values.\n",
    "# Mode: The most frequently occurring value in a dataset.\n",
    "#q2. What is the difference between the mean, median, and mode? How are they used to measure thecentral tendency of a dataset?\n",
    "#ans- Mean: The mean is calculated by adding up all the values in a dataset and dividing by the number of values. It is used when the data is symmetrically distributed without outliers.\n",
    "# Example: For data [1, 2, 3, 4, 5], the mean is (1+2+3+4+5)/5 = 3.\n",
    "# Median: The median is the middle value of an ordered dataset. It is used when the data is skewed or contains outliers, as it is not affected by extreme values.\n",
    "# Example: For data [1, 2, 3, 4, 5], the median is 3. For data [1, 2, 3, 4, 100], the median is still 3.\n",
    "# Mode: The mode is the value that appears most frequently in a dataset. It is useful for categorical data or to understand the most common value in a dataset.\n",
    "# Example: For data [1, 2, 2, 3, 4], the mode is 2.\n",
    "#q3.Measure the three measures of central tendency for the given height data:\n",
    "#[178,177,176,177,178.2,178,175,179,180,175,178.9,176.2,177,172.5,178,176.5]\n",
    "#ans-import numpy as np\n",
    "from scipy import stats\n",
    "import numpy as np\n",
    "\n",
    "\n",
    "# Height data\n",
    "data = [178, 177, 176, 177, 178.2, 178, 175, 179, 180, 175, 178.9, 176.2, 177, 172.5, 178, 176.5]\n",
    "\n",
    "# Mean\n",
    "mean = np.mean(data)\n",
    "\n",
    "# Median\n",
    "median = np.median(data)\n",
    "\n",
    "# Mode\n",
    "mode = stats.mode(data)\n",
    "\n",
    "mean, median, mode.mode[0]\n"
   ]
  },
  {
   "cell_type": "code",
   "execution_count": 3,
   "id": "09b80e13-ed85-45de-b100-310e48adeda4",
   "metadata": {},
   "outputs": [
    {
     "data": {
      "text/plain": [
       "1.847238930584419"
      ]
     },
     "execution_count": 3,
     "metadata": {},
     "output_type": "execute_result"
    }
   ],
   "source": [
    "#q4.Find the standard deviation for the given data:\n",
    "#[178,177,176,177,178.2,178,175,179,180,175,178.9,176.2,177,172.5,178,176.5]\n",
    "# Standard Deviation\n",
    "std_dev = np.std(data, ddof=1)  # Sample standard deviation\n",
    "\n",
    "std_dev\n",
    "\n"
   ]
  },
  {
   "cell_type": "code",
   "execution_count": 4,
   "id": "b78d8c7f-3c78-4dc3-82d0-69a6eee723d0",
   "metadata": {},
   "outputs": [],
   "source": [
    "#Q5.How are measures of dispersion such as range, variance, and standard deviation used to describe\n",
    "#the spread of a dataset? Provide an example.\n",
    "#ans-Range: The range is the difference between the maximum and minimum values in the dataset. It gives a quick sense of the spread but is sensitive to outliers.\n",
    "\n",
    "# Example: For data [1, 2, 3, 4, 5], the range is 5 - 1 = 4.\n",
    "# Variance: The variance measures the average squared deviation of each number from the mean. It provides an indication of how much the values spread out from the mean but is in squared units.\n",
    "\n",
    "# Example: For data [1, 2, 3, 4, 5], the variance is 2.5 (calculated as the average of the squared differences from the mean).\n",
    "# Standard Deviation: The standard deviation is the square root of the variance, bringing it back to the original units of the data. It provides a measure of the average distance of each value from the mean.\n",
    "\n",
    "# Example: For data [1, 2, 3, 4, 5], the standard deviation is 1.58 (the square root of 2.5).\n",
    "#q6. What is a Venn diagram?\n",
    "#ans-A Venn diagram is a graphical representation of the relationships between different sets. It uses circles to show the elements of each set, with overlaps indicating the intersection of sets. Venn diagrams are used to illustrate concepts in set theory, logic, probability, and statistics.\n"
   ]
  },
  {
   "cell_type": "code",
   "execution_count": 5,
   "id": "f18772b5-d602-4d47-bb83-d5f032edb85a",
   "metadata": {},
   "outputs": [
    {
     "data": {
      "text/plain": [
       "({2, 6}, {0, 2, 3, 4, 5, 6, 7, 8, 10})"
      ]
     },
     "execution_count": 5,
     "metadata": {},
     "output_type": "execute_result"
    }
   ],
   "source": [
    "#q7. For the two given sets A = (2,3,4,5,6,7) & B = (0,2,6,8,10). Find:\n",
    "#(i) A B\n",
    "#(ii) A ⋃ B\n",
    "# Sets\n",
    "A = {2, 3, 4, 5, 6, 7}\n",
    "B = {0, 2, 6, 8, 10}\n",
    "\n",
    "# Intersection\n",
    "intersection = A.intersection(B)\n",
    "\n",
    "# Union\n",
    "union = A.union(B)\n",
    "\n",
    "intersection, union\n"
   ]
  },
  {
   "cell_type": "code",
   "execution_count": null,
   "id": "07b661da-835e-46a9-958b-f0614778ace1",
   "metadata": {},
   "outputs": [],
   "source": []
  }
 ],
 "metadata": {
  "kernelspec": {
   "display_name": "Python 3 (ipykernel)",
   "language": "python",
   "name": "python3"
  },
  "language_info": {
   "codemirror_mode": {
    "name": "ipython",
    "version": 3
   },
   "file_extension": ".py",
   "mimetype": "text/x-python",
   "name": "python",
   "nbconvert_exporter": "python",
   "pygments_lexer": "ipython3",
   "version": "3.10.8"
  }
 },
 "nbformat": 4,
 "nbformat_minor": 5
}
